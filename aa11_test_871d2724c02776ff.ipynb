{
  "nbformat": 4,
  "nbformat_minor": 0,
  "metadata": {
    "kernelspec": {
      "display_name": "Python 3",
      "language": "python",
      "name": "python3"
    },
    "language_info": {
      "codemirror_mode": {
        "name": "ipython",
        "version": 3
      },
      "file_extension": ".py",
      "mimetype": "text/x-python",
      "name": "python",
      "nbconvert_exporter": "python",
      "pygments_lexer": "ipython3",
      "version": "3.6.4"
    },
    "colab": {
      "name": "aa11-test-871d2724c02776ff.ipynb",
      "provenance": []
    }
  },
  "cells": [
    {
      "cell_type": "markdown",
      "metadata": {
        "id": "w4ymFljMwCLf"
      },
      "source": [
        "# _Predicting NHL Player Info_\n",
        "\n",
        "One of my favorite sports to watch is hockey. I found a [hockey dataset](https://www.kaggle.com/martinellis/nhl-game-data/version/1#game_plays.csv) on Kaggle that looks kinda fun. Let's check it out.\n",
        "\n",
        "**Goal:** The datasets from Kaggle provides basic player stats (# goals scored, assists, time on ice, etc.). I will build a couple models that make predictions about the player based only on his stats.\n",
        "\n",
        "**Initial predictions**: A player's statistics can be indicative of his age and his position.\n",
        "\n",
        "**How to Follow:** Read it like an article. Start at the top, read each text block and follow the story. Don't worry about what the code is saying.  \n",
        "\n",
        "## Project Summary\n",
        "\n",
        "### Part 1. Loading the Data:\n",
        "* Loading and combining all the datasets into one dataframe called `players`.\n",
        "\n",
        "### Part 2. Exploratory Data Analysis:\n",
        "* Looking for features to select from `players` dataset that will help us predict player's age.\n",
        "\n",
        "### Part 3. Test Train Split & Feature Selection:\n",
        "* Splitting the data into testing and training set. The training data is used to train the model and the test data is used to see how accurate our model predictions are.\n",
        "\n",
        "### Part 4. Building a Linear Regression Model:\n",
        "* Selecting `mean squared error` as my error metric. I then construct a linear regression model that predicts a player's age.\n",
        "\n",
        "### Part 5. Multiclass Classification:\n",
        "* Using player statistics to predict player positions.\n",
        "\n",
        "### Conclusion:\n",
        "* I found that player stats do have some indication of a player's age and position. Predicting player age is affected by major outliers as we see with the `Radek Martinek` case, and predicting player position is a bit more accurate."
      ]
    }
  ]
}