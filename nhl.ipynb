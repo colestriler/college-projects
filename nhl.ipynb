{
 "cells": [
  {
   "cell_type": "markdown",
   "metadata": {},
   "source": [
    "# _Predicting NHL Player Info_\n",
    "\n",
    "One of my favorite sports to watch is hockey. I found a [hockey dataset](https://www.kaggle.com/martinellis/nhl-game-data/version/1#game_plays.csv) on Kaggle that looks kinda fun. Let's check it out.\n",
    "\n",
    "**Goal:** The datasets from Kaggle provides basic player stats (# goals scored, assists, time on ice, etc.). I will build a couple models that make predictions about the player based only on his stats.\n",
    "\n",
    "**Initial predictions**: A player's statistics can be indicative of his age and his position.\n",
    "\n",
    "**How to Follow:** Read it like an article. Start at the top, read each text block and follow the story. Don't worry about what the code is saying.  \n",
    "\n",
    "## Project Summary\n",
    "\n",
    "### Part 1. Loading the Data:\n",
    "* Loading and combining all the datasets into one dataframe called `players`.\n",
    "\n",
    "### Part 2. Exploratory Data Analysis:\n",
    "* Looking for features to select from `players` dataset that will help us predict player's age.\n",
    "\n",
    "### Part 3. Test Train Split & Feature Selection:\n",
    "* Splitting the data into testing and training set. The training data is used to train the model and the test data is used to see how accurate our model predictions are.\n",
    "\n",
    "### Part 4. Building a Linear Regression Model:\n",
    "* Selecting `mean squared error` as my error metric. I then construct a linear regression model that predicts a player's age.\n",
    "\n",
    "### Part 5. Multiclass Classification:\n",
    "* Using player statistics to predict player positions.\n",
    "\n",
    "### Conclusion:\n",
    "* I found that player stats do have some indication of a player's age and position. Predicting player age is affected by major outliers as we see with the `Radek Martinek` case, and predicting player position is a bit more accurate."
   ]
  },
  {
   "cell_type": "code",
   "execution_count": 32,
   "metadata": {},
   "outputs": [],
   "source": [
    "# Imports\n",
    "import os\n",
    "import numpy as np\n",
    "import pandas as pd\n",
    "import seaborn as sns\n",
    "from pathlib import Path\n",
    "import matplotlib\n",
    "import matplotlib.pyplot as plt\n",
    "from datetime import datetime\n",
    "\n",
    "import sklearn.linear_model as lm\n",
    "from sklearn.model_selection import train_test_split\n",
    "from sklearn.linear_model import LinearRegression, Ridge,BayesianRidge, LogisticRegression\n",
    "from sklearn.cluster import MiniBatchKMeans\n",
    "from sklearn.metrics import mean_squared_error\n",
    "from sklearn.feature_extraction import DictVectorizer\n",
    "from sklearn.metrics import confusion_matrix\n",
    "\n",
    "import ipywidgets as widgets\n",
    "from ipywidgets import interact, interactive, fixed, interact_manual\n",
    "\n",
    "sns.set()\n",
    "sns.set_context('talk')\n",
    "np.set_printoptions(threshold=20, precision=2, suppress=True)\n",
    "pd.options.display.max_rows = 7\n",
    "pd.options.display.max_columns = 8\n",
    "pd.set_option('precision', 2)\n",
    "sns.set(style=\"whitegrid\", palette=\"muted\")\n",
    "%matplotlib inline"
   ]
  },
  {
   "cell_type": "markdown",
   "metadata": {},
   "source": [
    "## 1. Loading the Data\n",
    "\n",
    "The csv files I will be using are defined below which are stored in the `hockey` directory:\n",
    "* **game.csv**  \n",
    "* **player_info.csv**\n",
    "* **team_info.csv**\n",
    "* **game_plays_players.csv**"
   ]
  },
  {
   "cell_type": "code",
   "execution_count": 33,
   "metadata": {},
   "outputs": [],
   "source": [
    "game = pd.read_csv('hockey/game.csv')\n",
    "player_info = pd.read_csv('hockey/player_info.csv')\n",
    "team_info = pd.read_csv('hockey/team_info.csv')\n",
    "game_plays = pd.read_csv('hockey/game_plays_players.csv')\n",
    "skater_stats = pd.read_csv('hockey/game_skater_stats.csv')"
   ]
  },
  {
   "cell_type": "markdown",
   "metadata": {},
   "source": [
    "There are multiple datasets that contain information about `player_id`. Below, I combine the ones I think will be useful. I also do a little bit of cleaning."
   ]
  },
  {
   "cell_type": "code",
   "execution_count": 34,
   "metadata": {},
   "outputs": [],
   "source": [
    "# Merging player datasets\n",
    "players = skater_stats.groupby('player_id').sum()\n",
    "players = players.loc[:, ['shots', 'goals', 'assists', 'hits', 'timeOnIce', \n",
    "                          'faceOffWins', 'penaltyMinutes', 'faceoffTaken',\n",
    "                         'powerPlayGoals', 'takeaways', 'giveaways']]\n",
    "# Renaming some columns\n",
    "players = players.merge(player_info, how='left', on='player_id')\n",
    "players = players.rename(columns={'primaryPosition':'pos', 'birthDate': 'dob', 'firstName': 'first',\n",
    "                       'lastName':'last', 'powerPlayGoals': 'pp_goals', 'birthCity': 'cob',\n",
    "                       'nationality': 'nat'})\n",
    "# Make names lowercase\n",
    "players['first'] = players['first'].str.lower()\n",
    "players['last'] = players['last'].str.lower()\n",
    "\n",
    "# Adding Time Columns\n",
    "now = pd.Timestamp(datetime.now())\n",
    "players['dob'] = pd.to_datetime(players['dob'])\n",
    "players['dob'] = players['dob'].where(players['dob'] < now, players['dob'] -np.timedelta64(100, 'Y'))\n",
    "players['age'] = (now - players['dob']).astype('<m8[Y]')\n",
    "players.loc[:,'year'] = players['dob'].dt.year"
   ]
  },
  {
   "cell_type": "markdown",
   "metadata": {},
   "source": [
    "Let's take a look at the distribution of ages in the NHL just so we have an idea about the data we're going to be working with. "
   ]
  },
  {
   "cell_type": "code",
   "execution_count": 35,
   "metadata": {},
   "outputs": [
    {
     "data": {
      "image/png": "[encoded data removed]",
      "text/plain": [
       "<matplotlib.figure.Figure at 0x1a1b7f0128>"
      ]
     },
     "metadata": {},
     "output_type": "display_data"
    },
    {
     "name": "stdout",
     "output_type": "stream",
     "text": [
      "The average age in the NHL is 29.\n",
      "The average birth year in the NHL is 1989.\n"
     ]
    }
   ],
   "source": [
    "current_year = 2018\n",
    "mean = int(np.mean(players['year']).round())\n",
    "\n",
    "sns.distplot(players['year'])\n",
    "plt.title(\"NHL Player Birth Years\")\n",
    "plt.ylabel('Proportion')\n",
    "plt.show()\n",
    "\n",
    "print(f\"The average age in the NHL is {current_year - mean}.\")\n",
    "print(f\"The average birth year in the NHL is {mean}.\")"
   ]
  },
  {
   "cell_type": "markdown",
   "metadata": {},
   "source": [
    "## 2. Exploratory Data Analysis\n",
    "First, let's look at the different columns we have to work with."
   ]
  },
  {
   "cell_type": "code",
   "execution_count": 36,
   "metadata": {},
   "outputs": [
    {
     "data": {
      "text/plain": [
       "Index(['player_id', 'shots', 'goals', 'assists', 'hits', 'timeOnIce',\n",
       "       'faceOffWins', 'penaltyMinutes', 'faceoffTaken', 'pp_goals',\n",
       "       'takeaways', 'giveaways', 'first', 'last', 'nat', 'cob', 'pos', 'dob',\n",
       "       'link', 'age', 'year'],\n",
       "      dtype='object')"
      ]
     },
     "execution_count": 36,
     "metadata": {},
     "output_type": "execute_result"
    }
   ],
   "source": [
    "players.columns"
   ]
  },
  {
   "cell_type": "markdown",
   "metadata": {},
   "source": [
    "Most of these features are numerical, which is good! Let's see if `age` has anything to do with the number of `goals` a player scores."
   ]
  },
  {
   "cell_type": "code",
   "execution_count": 37,
   "metadata": {},
   "outputs": [
    {
     "data": {
      "image/png": "[encoded data removed]",
      "text/plain": [
       "<matplotlib.figure.Figure at 0x1a1b7f9cc0>"
      ]
     },
     "metadata": {},
     "output_type": "display_data"
    }
   ],
   "source": [
    "sns.scatterplot(x='age', y='goals', data=players)\n",
    "plt.title('Age vs Num Goals')\n",
    "plt.show()"
   ]
  },
  {
   "cell_type": "markdown",
   "metadata": {},
   "source": [
    "At first glance, it appears that the distribution between age and the number of goals scored is normally distributed. Another feature we might want to look at is player position. Perhaps a player's `pos` might also be indicative of their age. See the plot below."
   ]
  },
  {
   "cell_type": "code",
   "execution_count": 38,
   "metadata": {},
   "outputs": [
    {
     "data": {
      "image/png": "[encoded data removed]",
      "text/plain": [
       "<matplotlib.figure.Figure at 0x1a0ed21358>"
      ]
     },
     "metadata": {},
     "output_type": "display_data"
    }
   ],
   "source": [
    "sns.barplot(x='pos', y='age', data=players)\n",
    "plt.title(\"Player Position vs Age\")\n",
    "plt.ylim(27, 31)\n",
    "plt.show()"
   ]
  },
  {
   "cell_type": "markdown",
   "metadata": {},
   "source": [
    "It looks like player position might be a useful feature for our model."
   ]
  },
  {
   "cell_type": "markdown",
   "metadata": {},
   "source": [
    "# 3. Test Train Split & Feature Engineering"
   ]
  },
  {
   "cell_type": "markdown",
   "metadata": {},
   "source": [
    "I will now split the data into a testing and training set. The training data will be used to train the model and the teting data will be used to see how well our model handles data it hasn't seen yet."
   ]
  },
  {
   "cell_type": "code",
   "execution_count": 39,
   "metadata": {},
   "outputs": [],
   "source": [
    "X_train, X_test, y_train, y_test = train_test_split(players, players['age'], test_size=0.2, random_state=42)"
   ]
  },
  {
   "cell_type": "markdown",
   "metadata": {},
   "source": [
    "Some of the features are categorical, so we need to do some [one-hot-encoding](https://en.wikipedia.org/wiki/One-hot) so we can add them to our feature matrix. The only categorical feature I use is a player's `position`."
   ]
  },
  {
   "cell_type": "code",
   "execution_count": 40,
   "metadata": {},
   "outputs": [
    {
     "name": "stdout",
     "output_type": "stream",
     "text": [
      "(1264, 15)\n",
      "(317, 15)\n"
     ]
    }
   ],
   "source": [
    "# One-Hot-Encoding\n",
    "position_train = pd.get_dummies(X_train['pos'], prefix='pos', prefix_sep='_')\n",
    "position_test = pd.get_dummies(X_test['pos'], prefix='pos', prefix_sep='_')\n",
    "\n",
    "train_pos = X_train['pos']\n",
    "test_pos = X_test['pos']\n",
    "\n",
    "# Dropping Features we Won't Need\n",
    "train_df = X_train.drop(['year', 'age', 'link', 'dob', 'pos', 'cob', 'nat', 'last', 'first', 'player_id'], axis=1)\n",
    "test_df = X_test.drop(['year', 'age', 'link', 'dob', 'pos', 'cob', 'nat', 'last', 'first', 'player_id'], axis=1)\n",
    "\n",
    "# Final feature matrix\n",
    "Train_Master = pd.concat([train_df, position_train ], axis=1)\n",
    "Test_Master = pd.concat([test_df, position_test], axis=1)\n",
    "\n",
    "print(Train_Master.shape)\n",
    "print(Test_Master.shape)"
   ]
  },
  {
   "cell_type": "markdown",
   "metadata": {},
   "source": [
    "## 4. Building a Model\n",
    "Now, the fun part! Let's make some predictions."
   ]
  },
  {
   "cell_type": "code",
   "execution_count": 41,
   "metadata": {},
   "outputs": [
    {
     "data": {
      "text/plain": [
       "LinearRegression(copy_X=True, fit_intercept=True, n_jobs=1, normalize=False)"
      ]
     },
     "execution_count": 41,
     "metadata": {},
     "output_type": "execute_result"
    }
   ],
   "source": [
    "linear_model = lm.LinearRegression(fit_intercept=True)\n",
    "linear_model.fit(Train_Master, y_train)"
   ]
  },
  {
   "cell_type": "code",
   "execution_count": 42,
   "metadata": {},
   "outputs": [],
   "source": [
    "pred_response = linear_model.predict(Train_Master)"
   ]
  },
  {
   "cell_type": "markdown",
   "metadata": {},
   "source": [
    "I use the Mean Squared Error because I don't have any major outliers or negative values. This quantity is defined below:\n",
    "\n",
    "$$\n",
    "MSE =\\frac{1}{n}\\sum_{i}  ( y_i -\\hat{y_i})^{2}\n",
    "$$"
   ]
  },
  {
   "cell_type": "code",
   "execution_count": 43,
   "metadata": {},
   "outputs": [],
   "source": [
    "def mse(actual, predicted):\n",
    "    \"\"\"\n",
    "    Calculates MAE from actual and predicted values\n",
    "    Input:\n",
    "      actual (1D array-like): vector of actual values\n",
    "      predicted (1D array-like): vector of predicted/fitted values\n",
    "    Output:\n",
    "      a float, the MAE\n",
    "    \"\"\"\n",
    "    return np.mean((actual - predicted)**2)"
   ]
  },
  {
   "cell_type": "code",
   "execution_count": 44,
   "metadata": {},
   "outputs": [
    {
     "name": "stdout",
     "output_type": "stream",
     "text": [
      "Training error:  27.2901033156\n",
      "Testing error:  23.6358687931\n"
     ]
    }
   ],
   "source": [
    "train_error = mse(y_train, linear_model.predict(Train_Master))\n",
    "test_error = mse(y_test, linear_model.predict(Test_Master))\n",
    "print(\"Training error: \", train_error)\n",
    "print(\"Testing error: \", test_error)"
   ]
  },
  {
   "cell_type": "markdown",
   "metadata": {},
   "source": [
    "The table below shows the `actual_age` and the `predicted_age` that my model generated from the testing data."
   ]
  },
  {
   "cell_type": "code",
   "execution_count": 45,
   "metadata": {},
   "outputs": [
    {
     "data": {
      "text/html": [
       "<div>\n",
       "<style scoped>\n",
       "    .dataframe tbody tr th:only-of-type {\n",
       "        vertical-align: middle;\n",
       "    }\n",
       "\n",
       "    .dataframe tbody tr th {\n",
       "        vertical-align: top;\n",
       "    }\n",
       "\n",
       "    .dataframe thead th {\n",
       "        text-align: right;\n",
       "    }\n",
       "</style>\n",
       "<table border=\"1\" class=\"dataframe\">\n",
       "  <thead>\n",
       "    <tr style=\"text-align: right;\">\n",
       "      <th></th>\n",
       "      <th>player_id</th>\n",
       "      <th>first</th>\n",
       "      <th>last</th>\n",
       "      <th>actual_age</th>\n",
       "      <th>predicted_age</th>\n",
       "    </tr>\n",
       "  </thead>\n",
       "  <tbody>\n",
       "    <tr>\n",
       "      <th>1124</th>\n",
       "      <td>8476805</td>\n",
       "      <td>spencer</td>\n",
       "      <td>abbott</td>\n",
       "      <td>30.0</td>\n",
       "      <td>29.0</td>\n",
       "    </tr>\n",
       "    <tr>\n",
       "      <th>813</th>\n",
       "      <td>8475246</td>\n",
       "      <td>kevin</td>\n",
       "      <td>connauton</td>\n",
       "      <td>28.0</td>\n",
       "      <td>29.0</td>\n",
       "    </tr>\n",
       "    <tr>\n",
       "      <th>1175</th>\n",
       "      <td>8476911</td>\n",
       "      <td>tanner</td>\n",
       "      <td>richard</td>\n",
       "      <td>25.0</td>\n",
       "      <td>28.0</td>\n",
       "    </tr>\n",
       "    <tr>\n",
       "      <th>534</th>\n",
       "      <td>8473584</td>\n",
       "      <td>andrew</td>\n",
       "      <td>macdonald</td>\n",
       "      <td>32.0</td>\n",
       "      <td>34.0</td>\n",
       "    </tr>\n",
       "    <tr>\n",
       "      <th>514</th>\n",
       "      <td>8473534</td>\n",
       "      <td>patrik</td>\n",
       "      <td>berglund</td>\n",
       "      <td>30.0</td>\n",
       "      <td>29.0</td>\n",
       "    </tr>\n",
       "  </tbody>\n",
       "</table>\n",
       "</div>"
      ],
      "text/plain": [
       "      player_id    first       last  actual_age  predicted_age\n",
       "1124    8476805  spencer     abbott        30.0           29.0\n",
       "813     8475246    kevin  connauton        28.0           29.0\n",
       "1175    8476911   tanner    richard        25.0           28.0\n",
       "534     8473584   andrew  macdonald        32.0           34.0\n",
       "514     8473534   patrik   berglund        30.0           29.0"
      ]
     },
     "execution_count": 45,
     "metadata": {},
     "output_type": "execute_result"
    }
   ],
   "source": [
    "test_pred = linear_model.predict(Test_Master)\n",
    "\n",
    "final = pd.DataFrame(data={\n",
    "    'player_id': X_test['player_id'],\n",
    "    'first': X_test['first'],\n",
    "    'last': X_test['last'],\n",
    "    'actual_age': X_test['age'],\n",
    "    'predicted_age': test_pred.round()\n",
    "})\n",
    "final.head()"
   ]
  },
  {
   "cell_type": "code",
   "execution_count": 46,
   "metadata": {},
   "outputs": [
    {
     "name": "stdout",
     "output_type": "stream",
     "text": [
      "Test accuracy: 0.6561514195583596\n"
     ]
    }
   ],
   "source": [
    "close = final[abs(final['actual_age'] - final['predicted_age']) <= 4]\n",
    "accuracy = close.shape[0] / len(test_pred)\n",
    "print(\"Test accuracy:\", accuracy)"
   ]
  },
  {
   "cell_type": "markdown",
   "metadata": {},
   "source": [
    "As you can see above, several of the predictions appear to be pretty close, but we only have a 65% testing accuracy. This is because a few outliers are throwing off the accuracy."
   ]
  },
  {
   "cell_type": "code",
   "execution_count": 47,
   "metadata": {},
   "outputs": [
    {
     "data": {
      "text/plain": [
       "player_id         8468101\n",
       "first               radek\n",
       "last             martinek\n",
       "actual_age             42\n",
       "predicted_age          28\n",
       "difference             14\n",
       "Name: 123, dtype: object"
      ]
     },
     "execution_count": 47,
     "metadata": {},
     "output_type": "execute_result"
    }
   ],
   "source": [
    "final['difference'] = abs(final['actual_age'].astype(int) - final['predicted_age'].astype(int))\n",
    "final.sort_values('difference', ascending=False).iloc[0,:]"
   ]
  },
  {
   "cell_type": "markdown",
   "metadata": {},
   "source": [
    "For `Radek Martinek`, my model predicted that he is 28 years old when he is actually 42 years old. That is a 14 year difference! \n",
    "\n",
    "Perhaps a player's statistics is not completely indicitive of his age. This is mainly because this type of analysis is subject to large outliers such as the `Radek Martinek` case.\n",
    "\n",
    "**How to make our predictions more accurate?** To make my preditions more accurate, I would need more features merged from other datasets."
   ]
  },
  {
   "cell_type": "markdown",
   "metadata": {},
   "source": [
    "## 5. Multiclass Classification\n",
    "Now, let's see if we can use the same statistics to predict what `position` each player is."
   ]
  },
  {
   "cell_type": "code",
   "execution_count": 48,
   "metadata": {},
   "outputs": [
    {
     "data": {
      "image/png": "[encoded data removed]",
      "text/plain": [
       "<matplotlib.figure.Figure at 0x1a1b81e400>"
      ]
     },
     "metadata": {},
     "output_type": "display_data"
    }
   ],
   "source": [
    "sns.lmplot(x='takeaways', y='giveaways', data=players, hue='pos')\n",
    "plt.title(\"Giveaways vs Takeaways\")\n",
    "plt.show()"
   ]
  },
  {
   "cell_type": "markdown",
   "metadata": {},
   "source": [
    "It definitely appears that there are some features from `players` that will help us determine what position a certain player is.\n",
    "\n",
    "Below are the variables I will be reusing from part 3:\n",
    "* **train_df** - training feature matrix without `pos`\n",
    "* **test_df** - testing feature matrix without `pos`\n",
    "* **train_pos** - player `positions` from the training data\n",
    "* **test_pos** - player `positions` from the testing data"
   ]
  },
  {
   "cell_type": "markdown",
   "metadata": {},
   "source": [
    "### Feature Selection\n",
    "Here I remove the features that decrease the accuracy of my model. I determined which features to remove by running multiple tests and choosing the features that gave my model the highest accuracy."
   ]
  },
  {
   "cell_type": "code",
   "execution_count": 49,
   "metadata": {},
   "outputs": [],
   "source": [
    "train_df = train_df.drop(['penaltyMinutes', 'assists', 'shots'], axis=1)\n",
    "test_df = test_df.drop(['penaltyMinutes', 'assists', 'shots'], axis=1)"
   ]
  },
  {
   "cell_type": "markdown",
   "metadata": {},
   "source": [
    "Now, I define a logistic regression model. My model's predictions are stored in the `predicted_pos` column in the below dataframe."
   ]
  },
  {
   "cell_type": "code",
   "execution_count": 50,
   "metadata": {},
   "outputs": [
    {
     "data": {
      "text/html": [
       "<div>\n",
       "<style scoped>\n",
       "    .dataframe tbody tr th:only-of-type {\n",
       "        vertical-align: middle;\n",
       "    }\n",
       "\n",
       "    .dataframe tbody tr th {\n",
       "        vertical-align: top;\n",
       "    }\n",
       "\n",
       "    .dataframe thead th {\n",
       "        text-align: right;\n",
       "    }\n",
       "</style>\n",
       "<table border=\"1\" class=\"dataframe\">\n",
       "  <thead>\n",
       "    <tr style=\"text-align: right;\">\n",
       "      <th></th>\n",
       "      <th>player_id</th>\n",
       "      <th>first</th>\n",
       "      <th>last</th>\n",
       "      <th>pos</th>\n",
       "      <th>predicted_pos</th>\n",
       "    </tr>\n",
       "  </thead>\n",
       "  <tbody>\n",
       "    <tr>\n",
       "      <th>1124</th>\n",
       "      <td>8476805</td>\n",
       "      <td>spencer</td>\n",
       "      <td>abbott</td>\n",
       "      <td>LW</td>\n",
       "      <td>LW</td>\n",
       "    </tr>\n",
       "    <tr>\n",
       "      <th>813</th>\n",
       "      <td>8475246</td>\n",
       "      <td>kevin</td>\n",
       "      <td>connauton</td>\n",
       "      <td>D</td>\n",
       "      <td>D</td>\n",
       "    </tr>\n",
       "    <tr>\n",
       "      <th>1175</th>\n",
       "      <td>8476911</td>\n",
       "      <td>tanner</td>\n",
       "      <td>richard</td>\n",
       "      <td>C</td>\n",
       "      <td>C</td>\n",
       "    </tr>\n",
       "    <tr>\n",
       "      <th>534</th>\n",
       "      <td>8473584</td>\n",
       "      <td>andrew</td>\n",
       "      <td>macdonald</td>\n",
       "      <td>D</td>\n",
       "      <td>D</td>\n",
       "    </tr>\n",
       "    <tr>\n",
       "      <th>514</th>\n",
       "      <td>8473534</td>\n",
       "      <td>patrik</td>\n",
       "      <td>berglund</td>\n",
       "      <td>C</td>\n",
       "      <td>C</td>\n",
       "    </tr>\n",
       "  </tbody>\n",
       "</table>\n",
       "</div>"
      ],
      "text/plain": [
       "      player_id    first       last pos predicted_pos\n",
       "1124    8476805  spencer     abbott  LW            LW\n",
       "813     8475246    kevin  connauton   D             D\n",
       "1175    8476911   tanner    richard   C             C\n",
       "534     8473584   andrew  macdonald   D             D\n",
       "514     8473534   patrik   berglund   C             C"
      ]
     },
     "execution_count": 50,
     "metadata": {},
     "output_type": "execute_result"
    }
   ],
   "source": [
    "# Defining a Logistic Regression model\n",
    "lr = LogisticRegression(random_state=42)\n",
    "\n",
    "# Fitting the model to the training data\n",
    "lr.fit(train_df, train_pos)\n",
    "\n",
    "# Storing my model's predictions from the test data\n",
    "y_pred = lr.predict(test_df)\n",
    "\n",
    "# RESULTS is the original testing data (not the feature matrix)\n",
    "results = X_test.drop([ 'shots', 'goals', 'assists', 'hits', 'timeOnIce',\n",
    "       'faceOffWins', 'penaltyMinutes', 'faceoffTaken', 'pp_goals',\n",
    "       'takeaways', 'giveaways', 'nat', 'cob', 'dob',\n",
    "       'link', 'age', 'year'], axis=1)\n",
    "\n",
    "# Adding our predictions to RESULTS for comparison\n",
    "results['predicted_pos'] = y_pred\n",
    "results.head()"
   ]
  },
  {
   "cell_type": "code",
   "execution_count": 51,
   "metadata": {},
   "outputs": [
    {
     "name": "stdout",
     "output_type": "stream",
     "text": [
      "Test Accuracy:  0.750788643533123\n"
     ]
    }
   ],
   "source": [
    "# FINAL_2 is every player that my model accurately predicted their position\n",
    "final_2 = results[results['pos'] == results['predicted_pos']]\n",
    "\n",
    "test_accuracy = final_2.shape[0] / results.shape[0]\n",
    "print('Test Accuracy: ', test_accuracy)"
   ]
  },
  {
   "cell_type": "markdown",
   "metadata": {},
   "source": [
    "My model accurately predicts a players `position` (only given their statistics) with a 75% accuracy. This isn't perfect, but it's much more accurate than predicting a player's age."
   ]
  }
 ],
 "metadata": {
  "kernelspec": {
   "display_name": "Python 3",
   "language": "python",
   "name": "python3"
  },
  "language_info": {
   "codemirror_mode": {
    "name": "ipython",
    "version": 3
   },
   "file_extension": ".py",
   "mimetype": "text/x-python",
   "name": "python",
   "nbconvert_exporter": "python",
   "pygments_lexer": "ipython3",
   "version": "3.6.4"
  }
 },
 "nbformat": 4,
 "nbformat_minor": 2
}
